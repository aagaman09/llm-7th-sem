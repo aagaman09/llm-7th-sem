{
 "cells": [
  {
   "cell_type": "markdown",
   "id": "c634d9da-c64e-46f8-b558-ff8ca345221b",
   "metadata": {},
   "source": [
    "# Transformers From Scratch"
   ]
  },
  {
   "cell_type": "code",
   "execution_count": 1,
   "id": "5f32337e-e558-4902-b6bc-e1487a29565b",
   "metadata": {},
   "outputs": [],
   "source": [
    "import re\n",
    "import math\n",
    "import scipy\n",
    "import numpy as np\n",
    "from collections import Counter, defaultdict\n",
    "from tqdm.auto import tqdm\n",
    "import matplotlib.pyplot as plt\n",
    "import seaborn as sns\n",
    "\n",
    "import torch\n",
    "import torch.nn as nn\n",
    "import torch.nn.functional as F"
   ]
  },
  {
   "cell_type": "markdown",
   "id": "5f7c7e77-c4ef-474b-a7b4-8de147832930",
   "metadata": {},
   "source": [
    "Step 1: Separate each char in word by space and add mark end of token, count frequency of tokens in corpus."
   ]
  },
  {
   "cell_type": "code",
   "execution_count": 2,
   "id": "def8cfed-c86d-42c7-bebe-17df8fae8b4f",
   "metadata": {},
   "outputs": [],
   "source": [
    "def build_vocab(corpus):\n",
    "    tokens = [\" \".join(word) + \" </w>\" for word in corpus.split()]\n",
    "    # Count frequency of tokens in corpus\n",
    "    vocab = Counter(tokens)  \n",
    "    return vocab"
   ]
  },
  {
   "cell_type": "markdown",
   "id": "3efa01f5-3e07-4f8f-bf23-56c4bdfe95fc",
   "metadata": {},
   "source": [
    "Step 2: Get counts of pairs of consecutive symbols (characters or sub-words)."
   ]
  },
  {
   "cell_type": "code",
   "execution_count": 3,
   "id": "00d16969-85db-47c5-9c99-3259af0a9e4d",
   "metadata": {},
   "outputs": [],
   "source": [
    "def get_stats(vocab):\n",
    "    pairs = Counter()\n",
    "    for word, frequency in vocab.items():\n",
    "        symbols = word.split()\n",
    "        for i in range(len(symbols) - 1):\n",
    "            pairs[symbols[i], symbols[i + 1]] += frequency\n",
    "    return pairs"
   ]
  },
  {
   "cell_type": "markdown",
   "id": "720e2ea7-9dd5-4bcc-9609-3d58b0aaa240",
   "metadata": {},
   "source": [
    "Step 3: Merge the most frequent pairs in the vocabulary."
   ]
  },
  {
   "cell_type": "code",
   "execution_count": 4,
   "id": "32c81985-2681-4d2d-b87a-8e1a1274db8e",
   "metadata": {},
   "outputs": [],
   "source": [
    "def merge_vocab(pair, v_in):\n",
    "    v_out = Counter()\n",
    "    bigram = re.escape(' '.join(pair))\n",
    "    p = re.compile(r'(?<!\\S)' + bigram + r'(?!\\S)')\n",
    "    for word in v_in:\n",
    "        w_out = p.sub(''.join(pair), word)\n",
    "        v_out[w_out] = v_in[word]\n",
    "    return v_out"
   ]
  },
  {
   "cell_type": "code",
   "execution_count": 5,
   "id": "db3444dc-7add-4820-8221-a22aaaa37be1",
   "metadata": {},
   "outputs": [],
   "source": [
    "def tokenize(string, sorted_tokens, input_id_map, return_strings=False, max_length=32, unknown_token='</u>'):\n",
    "    \n",
    "    string = \" \".join([s+'</w>' for s in string.split(\" \")])\n",
    "    \n",
    "    def tokenize_words(string, sorted_tokens, unknown_token):\n",
    "        if string == '':\n",
    "            return []\n",
    "        if sorted_tokens == []:\n",
    "            return [unknown_token]\n",
    "\n",
    "        string_tokens = []\n",
    "        for i in range(len(sorted_tokens)):\n",
    "            token = sorted_tokens[i]\n",
    "            token_reg = re.escape(token.replace('.', '[.]'))\n",
    "\n",
    "            matched_positions = [(m.start(0), m.end(0)) for m in re.finditer(token_reg, string)]\n",
    "            if len(matched_positions) == 0:\n",
    "                continue\n",
    "            substring_end_positions = [matched_position[0] for matched_position in matched_positions]\n",
    "\n",
    "            substring_start_position = 0\n",
    "            for substring_end_position in substring_end_positions:\n",
    "                substring = string[substring_start_position:substring_end_position]\n",
    "                string_tokens += tokenize_words(string=substring, sorted_tokens=sorted_tokens[i+1:], unknown_token=unknown_token)\n",
    "                string_tokens += [token]\n",
    "                substring_start_position = substring_end_position + len(token)\n",
    "            remaining_substring = string[substring_start_position:]\n",
    "            string_tokens += tokenize_words(string=remaining_substring, sorted_tokens=sorted_tokens[i+1:], unknown_token=unknown_token)\n",
    "            break\n",
    "        return string_tokens\n",
    "    \n",
    "    tokens = tokenize_words(string, sorted_tokens, unknown_token)\n",
    "    if return_strings: return tokens\n",
    "    if max_length == -1: return [input_id_map[t] for t in tokens]\n",
    "    input_ids = [1] * max_length\n",
    "    attention_mask = [0] * max_length\n",
    "    for i, t in enumerate(tokens):\n",
    "        input_ids[i] = input_id_map[t]\n",
    "        attention_mask[i] = 1\n",
    "    return input_ids, attention_mask"
   ]
  },
  {
   "cell_type": "markdown",
   "id": "f3b25867-1f3a-4cd2-a2c3-9ce4c7d9f994",
   "metadata": {},
   "source": [
    "Example: Creating a vocabualry out of all the works of William Shakespeare. We can adjust the `num_merges` parameter to control the granularity of tokens."
   ]
  },
  {
   "cell_type": "code",
   "execution_count": 6,
   "id": "b8a97e19-4a2c-4974-ae8d-4aae2dbf5116",
   "metadata": {},
   "outputs": [
    {
     "data": {
      "application/vnd.jupyter.widget-view+json": {
       "model_id": "96774d683e464964ae1b06469330c194",
       "version_major": 2,
       "version_minor": 0
      },
      "text/plain": [
       "  0%|          | 0/4000 [00:00<?, ?it/s]"
      ]
     },
     "metadata": {},
     "output_type": "display_data"
    }
   ],
   "source": [
    "with open('temp/Tiny Shakespeare.txt', 'r') as f:\n",
    "    corpus = f.read()\n",
    "\n",
    "vocab = build_vocab(corpus)\n",
    "num_merges = 4000\n",
    "for i in tqdm(range(num_merges)):\n",
    "    pairs = get_stats(vocab)\n",
    "    if not pairs:\n",
    "        break\n",
    "    best = max(pairs, key=pairs.get)\n",
    "    vocab = merge_vocab(best, vocab)"
   ]
  },
  {
   "cell_type": "markdown",
   "id": "45701023-75a9-4a61-b36a-067083dfa101",
   "metadata": {},
   "source": [
    "Now lets take a peek into the tokens created from this corpus."
   ]
  },
  {
   "cell_type": "code",
   "execution_count": 7,
   "id": "99a8a097-bffc-494c-93ec-8f85c1276fae",
   "metadata": {},
   "outputs": [],
   "source": [
    "def get_tokens_from_vocab(vocab):\n",
    "    tokens_frequencies = Counter()\n",
    "    vocab_tokenization = {}\n",
    "    for word, freq in vocab.items():\n",
    "        word_tokens = word.split()\n",
    "        for token in word_tokens:\n",
    "            tokens_frequencies[token] += freq\n",
    "        vocab_tokenization[''.join(word_tokens)] = word_tokens\n",
    "    return tokens_frequencies, vocab_tokenization"
   ]
  },
  {
   "cell_type": "markdown",
   "id": "f68ed58e-6a73-4746-8a32-4b41278ed121",
   "metadata": {},
   "source": [
    "After merging 4000 times, we have generated 3813 tokens from our corpus."
   ]
  },
  {
   "cell_type": "code",
   "execution_count": 8,
   "id": "3eb63fa9-0ec6-414f-8aa8-97dcd5c3a247",
   "metadata": {},
   "outputs": [
    {
     "name": "stdout",
     "output_type": "stream",
     "text": [
      "Number of tokens: 3813\n",
      "Most common 20 tokens: [('the</w>', 5457), ('I</w>', 4421), ('to</w>', 3961), ('and</w>', 3704), ('of</w>', 3311), ('a</w>', 2749), ('my</w>', 2694), ('in</w>', 2285), ('you</w>', 2132), ('that</w>', 1817), ('And</w>', 1801), ('is</w>', 1790), ('not</w>', 1649), ('with</w>', 1573), ('be</w>', 1500), ('your</w>', 1497), ('for</w>', 1396), ('his</w>', 1392), ('it</w>', 1307), ('have</w>', 1281)]\n"
     ]
    }
   ],
   "source": [
    "tokens_frequencies, vocab_tokenization = get_tokens_from_vocab(vocab)\n",
    "print('Number of tokens: {}'.format(len(tokens_frequencies.keys())))\n",
    "print('Most common 20 tokens: {}'.format(tokens_frequencies.most_common(20)))"
   ]
  },
  {
   "cell_type": "markdown",
   "id": "1d01ad0d-fd48-4e5d-b55f-a91c8a558b89",
   "metadata": {},
   "source": [
    "Now lets create the mapping of tokens to integers and back."
   ]
  },
  {
   "cell_type": "code",
   "execution_count": 9,
   "id": "d9d0942f-5208-4434-837e-7b5f99bd3d35",
   "metadata": {},
   "outputs": [],
   "source": [
    "def measure_token_length(token):\n",
    "    return len(token[:-4]) + 1 if token[-4:] == '</w>' else len(token)\n",
    "    \n",
    "sorted_tokens = [\n",
    "    token\n",
    "    for (token, freq) in sorted(\n",
    "        tokens_frequencies.items(),\n",
    "        key=lambda item: (measure_token_length(item[0]), item[1]),\n",
    "        reverse=True,\n",
    "    )\n",
    "]"
   ]
  },
  {
   "cell_type": "code",
   "execution_count": 10,
   "id": "04ddb1ca-423e-4e1d-aa86-a89a9be00cc5",
   "metadata": {},
   "outputs": [],
   "source": [
    "UNK_TOKEN = '</u>'\n",
    "PAD_TOKEN = '</p>'\n",
    "\n",
    "token2id = { UNK_TOKEN: 0, PAD_TOKEN:1}\n",
    "for i, token in enumerate(sorted_tokens):\n",
    "    token2id[token] = i+2\n",
    "\n",
    "id2token = {v:k for k, v in token2id.items()}"
   ]
  },
  {
   "cell_type": "code",
   "execution_count": 11,
   "id": "6f054141-98c6-47be-815b-db7772ba9bce",
   "metadata": {},
   "outputs": [
    {
     "data": {
      "text/plain": [
       "3815"
      ]
     },
     "execution_count": 11,
     "metadata": {},
     "output_type": "execute_result"
    }
   ],
   "source": [
    "vocab_size = len(token2id)\n",
    "vocab_size"
   ]
  },
  {
   "cell_type": "markdown",
   "id": "2afe70a9-15a1-43cf-8aee-3110e830b61e",
   "metadata": {},
   "source": [
    "Finally we can use our tokenzier to get token list and its corresponding integer list."
   ]
  },
  {
   "cell_type": "code",
   "execution_count": 12,
   "id": "9083632d-8e9e-4a17-a08b-7eee0b7a2824",
   "metadata": {},
   "outputs": [
    {
     "name": "stdout",
     "output_type": "stream",
     "text": [
      "['I</w>', 'am</w>', 'the</w>', 'first</w>', 'king</w>', 'of</w>', 'eng', 'land</w>']\n"
     ]
    }
   ],
   "source": [
    "max_len = 64\n",
    "\n",
    "input_text = 'I am the first king of england'\n",
    "\n",
    "tokenized = tokenize(input_text,\n",
    "                     sorted_tokens=sorted_tokens,\n",
    "                     input_id_map=token2id,\n",
    "                     return_strings=True,\n",
    "                     max_length=max_len,\n",
    "                     unknown_token='</u>')\n",
    "print(tokenized)"
   ]
  },
  {
   "cell_type": "code",
   "execution_count": 13,
   "id": "0fa63909-12a2-4f92-872b-484283997a22",
   "metadata": {},
   "outputs": [
    {
     "name": "stdout",
     "output_type": "stream",
     "text": [
      "[3418, 2715, 1876, 623, 1149, 2686, 3371, 1266, 1, 1, 1, 1, 1, 1, 1, 1, 1, 1, 1, 1, 1, 1, 1, 1, 1, 1, 1, 1, 1, 1, 1, 1, 1, 1, 1, 1, 1, 1, 1, 1, 1, 1, 1, 1, 1, 1, 1, 1, 1, 1, 1, 1, 1, 1, 1, 1, 1, 1, 1, 1, 1, 1, 1, 1]\n",
      "[1, 1, 1, 1, 1, 1, 1, 1, 0, 0, 0, 0, 0, 0, 0, 0, 0, 0, 0, 0, 0, 0, 0, 0, 0, 0, 0, 0, 0, 0, 0, 0, 0, 0, 0, 0, 0, 0, 0, 0, 0, 0, 0, 0, 0, 0, 0, 0, 0, 0, 0, 0, 0, 0, 0, 0, 0, 0, 0, 0, 0, 0, 0, 0]\n"
     ]
    }
   ],
   "source": [
    "input_ids, attention_mask = tokenize(input_text,\n",
    "                     sorted_tokens=sorted_tokens,\n",
    "                     input_id_map=token2id,\n",
    "                     return_strings=False,\n",
    "                     max_length=max_len,\n",
    "                     unknown_token='</u>')\n",
    "print(input_ids)\n",
    "print(attention_mask)"
   ]
  },
  {
   "cell_type": "code",
   "execution_count": 14,
   "id": "c46dc5f6-bb32-4937-8305-45b86e5b12ec",
   "metadata": {},
   "outputs": [
    {
     "data": {
      "text/plain": [
       "torch.Size([3815, 32])"
      ]
     },
     "execution_count": 14,
     "metadata": {},
     "output_type": "execute_result"
    }
   ],
   "source": [
    "emb_dim = 32\n",
    "\n",
    "token_embeddings = nn.Embedding(vocab_size, emb_dim)\n",
    "token_embeddings.weight.size() # vocab_size x embedding_dim"
   ]
  },
  {
   "cell_type": "code",
   "execution_count": 15,
   "id": "ba626ea1-b2b7-4954-a730-08315f61c8b3",
   "metadata": {},
   "outputs": [
    {
     "data": {
      "text/plain": [
       "tensor([[ 1.1626,  0.0797,  0.6972,  ...,  0.0084,  0.6901, -1.2833],\n",
       "        [-0.2049,  0.2148,  1.6585,  ...,  0.7465, -1.4797,  1.7816],\n",
       "        [ 2.1851, -1.5042,  0.7744,  ..., -1.6813, -0.5905, -0.3054],\n",
       "        ...,\n",
       "        [-0.0493,  0.7197,  1.3134,  ...,  1.1167,  0.4977, -0.6197],\n",
       "        [-0.0493,  0.7197,  1.3134,  ...,  1.1167,  0.4977, -0.6197],\n",
       "        [-0.0493,  0.7197,  1.3134,  ...,  1.1167,  0.4977, -0.6197]])"
      ]
     },
     "execution_count": 15,
     "metadata": {},
     "output_type": "execute_result"
    }
   ],
   "source": [
    "with torch.no_grad():\n",
    "    input_embeddings = token_embeddings(torch.Tensor(input_ids).long())\n",
    "\n",
    "input_embeddings"
   ]
  },
  {
   "cell_type": "code",
   "execution_count": 16,
   "id": "1ae191e3-fbd9-44b4-9cc2-a007cc66b935",
   "metadata": {},
   "outputs": [
    {
     "data": {
      "text/plain": [
       "torch.Size([64, 32])"
      ]
     },
     "execution_count": 16,
     "metadata": {},
     "output_type": "execute_result"
    }
   ],
   "source": [
    "input_embeddings.size() # max_len x embedding_dim"
   ]
  },
  {
   "cell_type": "markdown",
   "id": "f0edda2c-12dd-4e2d-942b-6073b7d5de6b",
   "metadata": {
    "tags": []
   },
   "source": [
    "## 2. Positional Encoding - Incorporating the order of words"
   ]
  },
  {
   "cell_type": "markdown",
   "id": "785e22e9-ecf1-4e40-a5ff-35b0478ca19e",
   "metadata": {},
   "source": [
    "Lets create matrix of `[SeqLen, HiddenDim]` representing the positional encoding for `max_len` inputs."
   ]
  },
  {
   "cell_type": "code",
   "execution_count": 17,
   "id": "606bc4b5-c7d0-438c-b5c4-38c69c681550",
   "metadata": {},
   "outputs": [
    {
     "data": {
      "text/plain": [
       "torch.Size([64, 32])"
      ]
     },
     "execution_count": 17,
     "metadata": {},
     "output_type": "execute_result"
    }
   ],
   "source": [
    "pe = torch.zeros(max_len, emb_dim)\n",
    "pe.size()"
   ]
  },
  {
   "cell_type": "code",
   "execution_count": 18,
   "id": "2a12c477-24a3-498a-b2a4-c0fe8bac68af",
   "metadata": {},
   "outputs": [
    {
     "name": "stdout",
     "output_type": "stream",
     "text": [
      "tensor([[ 0.,  1.,  2.,  3.,  4.,  5.,  6.,  7.,  8.,  9., 10., 11., 12., 13.,\n",
      "         14., 15., 16., 17., 18., 19., 20., 21., 22., 23., 24., 25., 26., 27.,\n",
      "         28., 29., 30., 31., 32., 33., 34., 35., 36., 37., 38., 39., 40., 41.,\n",
      "         42., 43., 44., 45., 46., 47., 48., 49., 50., 51., 52., 53., 54., 55.,\n",
      "         56., 57., 58., 59., 60., 61., 62., 63.]])\n"
     ]
    }
   ],
   "source": [
    "position = torch.arange(0, max_len, dtype=torch.float).unsqueeze(1)\n",
    "print(position.T)"
   ]
  },
  {
   "cell_type": "code",
   "execution_count": 19,
   "id": "44c2b82b-4b8c-4270-8de6-6d75ba877d1e",
   "metadata": {},
   "outputs": [
    {
     "data": {
      "text/plain": [
       "tensor([1.0000e+00, 5.6234e-01, 3.1623e-01, 1.7783e-01, 1.0000e-01, 5.6234e-02,\n",
       "        3.1623e-02, 1.7783e-02, 1.0000e-02, 5.6234e-03, 3.1623e-03, 1.7783e-03,\n",
       "        1.0000e-03, 5.6234e-04, 3.1623e-04, 1.7783e-04])"
      ]
     },
     "execution_count": 19,
     "metadata": {},
     "output_type": "execute_result"
    }
   ],
   "source": [
    "div_term = torch.exp(torch.arange(0, emb_dim, 2).float() * (-math.log(10000.0) / emb_dim))\n",
    "div_term"
   ]
  },
  {
   "cell_type": "code",
   "execution_count": 20,
   "id": "cb54a530-747f-415d-bef7-0027aaad792a",
   "metadata": {},
   "outputs": [
    {
     "data": {
      "text/plain": [
       "(torch.Size([64, 16]), torch.Size([64, 16]))"
      ]
     },
     "execution_count": 20,
     "metadata": {},
     "output_type": "execute_result"
    }
   ],
   "source": [
    "pos_sin = torch.sin(position * div_term)\n",
    "pos_cos = torch.cos(position * div_term)\n",
    "pos_sin.size(), pos_cos.size()"
   ]
  },
  {
   "cell_type": "code",
   "execution_count": 21,
   "id": "b55fb809-65a6-473c-957f-5d92ec12972b",
   "metadata": {},
   "outputs": [
    {
     "data": {
      "text/plain": [
       "torch.Size([64, 32])"
      ]
     },
     "execution_count": 21,
     "metadata": {},
     "output_type": "execute_result"
    }
   ],
   "source": [
    "pe[:, 0::2] = pos_sin\n",
    "pe[:, 1::2] = pos_cos\n",
    "pe.size()"
   ]
  },
  {
   "cell_type": "markdown",
   "id": "d600b944-c6ea-434b-9b13-2f6c80a2e0e2",
   "metadata": {},
   "source": [
    "Wrapping it all into a function, we have:"
   ]
  },
  {
   "cell_type": "code",
   "execution_count": 22,
   "id": "50f77313-d1f2-40be-8ad6-1937ab8222ca",
   "metadata": {},
   "outputs": [
    {
     "data": {
      "text/plain": [
       "torch.Size([64, 32])"
      ]
     },
     "execution_count": 22,
     "metadata": {},
     "output_type": "execute_result"
    }
   ],
   "source": [
    "def position_encode(max_len, emb_dim):\n",
    "    pe = torch.zeros(max_len, emb_dim)\n",
    "    position = torch.arange(0, max_len, dtype=torch.float).unsqueeze(1)\n",
    "    div_term = torch.exp(torch.arange(0, emb_dim, 2).float() * (-math.log(10000.0) / emb_dim))\n",
    "    pos_sin = torch.sin(position * div_term)\n",
    "    pos_cos = torch.cos(position * div_term)\n",
    "    pe[:, 0::2] = pos_sin\n",
    "    pe[:, 1::2] = pos_cos\n",
    "    return pe\n",
    "position_encode(64, 32).size()"
   ]
  },
  {
   "cell_type": "markdown",
   "id": "54a8c7f3-35cf-4df6-9d82-14ec2386d585",
   "metadata": {},
   "source": [
    "We can visualize the values of these positional encoding vectors as follows:"
   ]
  },
  {
   "cell_type": "code",
   "execution_count": 23,
   "id": "dcc417e6-534b-433d-9527-66e0f499b264",
   "metadata": {},
   "outputs": [],
   "source": [
    "def plot_matrix(mat, xlabel, ylabel, figsize=(10, 10), ticklabels=None):\n",
    "    fig, ax = plt.subplots(nrows=1, ncols=1, figsize=figsize)\n",
    "    pos = ax.imshow(mat, cmap='PuBuGn', extent=(1,mat.shape[1]+1,mat.shape[0]+1,1))\n",
    "    fig.colorbar(pos, ax=ax)\n",
    "    ax.set_xlabel(xlabel)\n",
    "    ax.set_ylabel(ylabel)\n",
    "    if not ticklabels:\n",
    "        ax.set_xticks([1]+[i*10 for i in range(1,1+mat.shape[1]//10)])\n",
    "        ax.set_yticks([1]+[i*10 for i in range(1,1+mat.shape[0]//10)])\n",
    "    else:\n",
    "        ax.set_xticklabels(ticklabels[0])\n",
    "        ax.set_yticklabels(ticklabels[1])\n",
    "    plt.show()"
   ]
  },
  {
   "cell_type": "markdown",
   "id": "da2dbfd7-df44-4e28-bce4-ce7378a374a8",
   "metadata": {},
   "source": [
    "We can observe that each position vector consists of periodic waves (sien/cosine) of different frequency in each dimension, giving this interesting visualization."
   ]
  },
  {
   "cell_type": "code",
   "execution_count": 24,
   "id": "067ab547-5943-4ed5-9bfa-c47b66cb2d68",
   "metadata": {},
   "outputs": [
    {
     "data": {
      "image/png": "[encoded data removed]",
      "text/plain": [
       "<Figure size 720x720 with 2 Axes>"
      ]
     },
     "metadata": {
      "needs_background": "light"
     },
     "output_type": "display_data"
    }
   ],
   "source": [
    "plot_matrix(pe.T.squeeze().numpy(), xlabel=\"Position in sequence\", ylabel=\"Hidden dimension\")"
   ]
  },
  {
   "cell_type": "markdown",
   "id": "28a52176-e510-4c38-b196-e79dfbc05705",
   "metadata": {},
   "source": [
    "Finally, to incorporate positional information into our token embeddings, we simply add the positional encoding vectors of embedding lengths to the input word/token embeddings."
   ]
  },
  {
   "cell_type": "code",
   "execution_count": 25,
   "id": "cf4b6311-b12c-430c-b07c-34c6c31b9ec6",
   "metadata": {},
   "outputs": [
    {
     "data": {
      "text/plain": [
       "tensor([[ 1.1626,  1.0797,  0.6972,  ...,  1.0084,  0.6901, -0.2833],\n",
       "        [ 0.6365,  0.7551,  2.1917,  ...,  1.7465, -1.4795,  2.7816],\n",
       "        [ 3.0944, -1.9204,  1.6765,  ..., -0.6813, -0.5901,  0.6946],\n",
       "        ...,\n",
       "        [-1.0154,  0.4616,  1.5653,  ...,  2.1166,  0.5086,  0.3802],\n",
       "        [-0.7885,  1.3932,  1.0106,  ...,  2.1165,  0.5087,  0.3802],\n",
       "        [ 0.1181,  1.7056,  0.5491,  ...,  2.1165,  0.5089,  0.3802]])"
      ]
     },
     "execution_count": 25,
     "metadata": {},
     "output_type": "execute_result"
    }
   ],
   "source": [
    "x = input_embeddings + pe\n",
    "x"
   ]
  },
  {
   "cell_type": "code",
   "execution_count": 26,
   "id": "6ea148c4-5802-4319-b043-b65eeea39de1",
   "metadata": {},
   "outputs": [
    {
     "data": {
      "text/plain": [
       "torch.Size([64, 32])"
      ]
     },
     "execution_count": 26,
     "metadata": {},
     "output_type": "execute_result"
    }
   ],
   "source": [
    "x.size()"
   ]
  },
  {
   "cell_type": "markdown",
   "id": "159f7fb0-0803-4dce-a7df-f1f480a34ecc",
   "metadata": {},
   "source": [
    "### Input text to output text"
   ]
  },
  {
   "cell_type": "markdown",
   "id": "c015b5c3-7132-473a-bbe6-eb50c1531d13",
   "metadata": {},
   "source": [
    "With BPE and Positional encoding, we now have way to represent text as ordered numerical vectors. But how do we produce the output text?\n",
    "We can do this by outputing a probability distribution over the entire vocabulary size.\n",
    "\n",
    "The following 2 layer neural network shows how we can input text into a neural network and get text out."
   ]
  },
  {
   "cell_type": "code",
   "execution_count": 27,
   "id": "88bb04a2-f0ae-4316-8fab-be68d9a4eb81",
   "metadata": {},
   "outputs": [],
   "source": [
    "w1 = torch.randn(emb_dim, emb_dim, dtype=torch.float32)\n",
    "b1 = torch.randn(max_len, 1, dtype=torch.float32)\n",
    "\n",
    "w2 = torch.randn(emb_dim, vocab_size, dtype=torch.float32)\n",
    "b2 = torch.randn(max_len, 1, dtype=torch.float32)\n",
    "\n",
    "output = x @ w1 + b1\n",
    "output = nn.ReLU()(output)\n",
    "\n",
    "output = output @ w2 + b2\n",
    "output = F.softmax(output, dim=-1)"
   ]
  },
  {
   "cell_type": "code",
   "execution_count": 28,
   "id": "68329e4f-ac8b-42a6-8b20-5662109e21fc",
   "metadata": {},
   "outputs": [
    {
     "data": {
      "text/plain": [
       "tensor([3457, 2911, 1559, 3171, 2868,   25, 2045, 1798,  874, 1798, 2120, 2120,\n",
       "        2120, 2120, 2120, 2120, 2120, 2120, 2120, 2120, 2120, 2120, 2120, 2120,\n",
       "        2120, 2120, 2120, 2120, 2120, 2120, 2120,  874,  874,  874, 2120,  874,\n",
       "        2120, 2120, 2120, 2120, 2120, 2120, 2120, 2120,  874,  874,  874,  874,\n",
       "        2120,  874,  874,  874,  874,  874,  874, 2120, 2120, 2120, 2120, 2120,\n",
       "        2120, 2120,  874, 3296])"
      ]
     },
     "execution_count": 28,
     "metadata": {},
     "output_type": "execute_result"
    }
   ],
   "source": [
    "output.argmax(1)"
   ]
  },
  {
   "cell_type": "code",
   "execution_count": 29,
   "id": "fd17bf71-6297-4f08-8e5d-39d60130e483",
   "metadata": {},
   "outputs": [
    {
     "name": "stdout",
     "output_type": "stream",
     "text": [
      "['or', 'don', 'man;</w>', 'ian', 'pas', 'ANTIGONUS:</w>', 'with', 'red,</w>', 'fault</w>', 'red,</w>', 'requ', 'requ', 'requ', 'requ', 'requ', 'requ', 'requ', 'requ', 'requ', 'requ', 'requ', 'requ', 'requ', 'requ', 'requ', 'requ', 'requ', 'requ', 'requ', 'requ', 'requ', 'fault</w>', 'fault</w>', 'fault</w>', 'requ', 'fault</w>', 'requ', 'requ', 'requ', 'requ', 'requ', 'requ', 'requ', 'requ', 'fault</w>', 'fault</w>', 'fault</w>', 'fault</w>', 'requ', 'fault</w>', 'fault</w>', 'fault</w>', 'fault</w>', 'fault</w>', 'fault</w>', 'requ', 'requ', 'requ', 'requ', 'requ', 'requ', 'requ', 'fault</w>', 'nor']\n"
     ]
    }
   ],
   "source": [
    "print([id2token[i] for i in output.argmax(1).tolist()])"
   ]
  },
  {
   "cell_type": "markdown",
   "id": "f7e9273c-c840-46ac-a05d-065bfeea6ec9",
   "metadata": {
    "tags": []
   },
   "source": [
    "### Positional Encoding as PyTorch Module"
   ]
  },
  {
   "cell_type": "markdown",
   "id": "be3ec53f-c0e2-4d55-845f-c48570af49ad",
   "metadata": {},
   "source": [
    "We can use the `position_encode` function above to create PyTorch module that we can use in architectures. We also enable using learned positional embeddings."
   ]
  },
  {
   "cell_type": "code",
   "execution_count": 30,
   "id": "fb52236a-d94d-4263-8927-a82f91fb3309",
   "metadata": {},
   "outputs": [],
   "source": [
    "class PositionalEncoding(nn.Module):\n",
    "\n",
    "    def __init__(self, emb_dim, max_len, sinusoidal=True):\n",
    "        \"\"\"\n",
    "        Inputs\n",
    "            emb_dim - Hidden dimensionality of the input.\n",
    "            max_len - Maximum length of a sequence to expect.\n",
    "        \"\"\"\n",
    "        super().__init__()\n",
    "        self.sinusoidal = sinusoidal\n",
    "        if self.sinusoidal:\n",
    "            pe = position_encode(max_len, emb_dim).unsqueeze(0) # add dim to the start to handle batch size\n",
    "            self.register_buffer('pe', pe, persistent=False)\n",
    "        else:\n",
    "            self.register_buffer('pos', torch.arange(0, max_len, dtype=torch.long).unsqueeze(0))\n",
    "            self.pe = nn.Embedding(max_len, emb_dim)\n",
    "\n",
    "    def forward(self, x):\n",
    "        if self.sinusoidal:\n",
    "            return x + self.pe[:, :x.size(1)]\n",
    "        else:\n",
    "            return x + self.pe(self.pos[:, :x.size(1)])"
   ]
  },
  {
   "cell_type": "markdown",
   "id": "914ca37f-a7b2-47cc-9fe9-7b062f974677",
   "metadata": {
    "tags": []
   },
   "source": [
    "## 3. Self Attention - Enabling model to learn relationship between tokens"
   ]
  },
  {
   "attachments": {
    "b554f1e1-6f4a-40cd-a549-51dd8253c140.png": {
     "image/png": "[encoded data removed]"
    }
   },
   "cell_type": "markdown",
   "id": "e754cfbb-d2bb-42db-9a7a-d755f24b67a6",
   "metadata": {},
   "source": [
    "![image.png](attachment:b554f1e1-6f4a-40cd-a549-51dd8253c140.png)\n",
    "[Source [4]](https://towardsdatascience.com/illustrated-self-attention-2d627e33b20a)"
   ]
  },
  {
   "cell_type": "markdown",
   "id": "a1d08970-4785-4a2e-9626-188f3bbab4c8",
   "metadata": {
    "tags": []
   },
   "source": [
    "### Attention Example with Pretrained embeddings"
   ]
  },
  {
   "cell_type": "markdown",
   "id": "777a0f01-f3e1-4628-96c5-974009447694",
   "metadata": {},
   "source": [
    "To observe how self-attention mechanism enables combining lower-level concepts to create abstractions at higher levels, lets use shallow word embeddings and observe creation of abstract concepts via mixing with attention."
   ]
  },
  {
   "cell_type": "code",
   "execution_count": 32,
   "id": "abd21229-6fde-4e8e-aac4-aa2360ef4c7c",
   "metadata": {
    "tags": []
   },
   "outputs": [],
   "source": [
    "from scipy.special import softmax\n",
    "import gensim.downloader as api\n",
    "w_emb = api.load('fasttext-wiki-news-subwords-300')"
   ]
  },
  {
   "cell_type": "code",
   "execution_count": 33,
   "id": "ee0a9795-ef32-47e2-8e81-b36bb8496dc3",
   "metadata": {},
   "outputs": [],
   "source": [
    "w_pos = position_encode(100, 300)"
   ]
  },
  {
   "cell_type": "code",
   "execution_count": 34,
   "id": "24101d54-47ab-4c5d-bea7-468efd42226e",
   "metadata": {},
   "outputs": [],
   "source": [
    "def cosine_similarity(a, b):\n",
    "    return np.dot(a, b)/(np.linalg.norm(a)*np.linalg.norm(b))"
   ]
  },
  {
   "cell_type": "markdown",
   "id": "dccffcf8-8f25-469f-bff5-a6f5fc874bae",
   "metadata": {},
   "source": [
    "Lets use an example text \"Cows and huts and fields\" to denote the concept of a rual place."
   ]
  },
  {
   "cell_type": "code",
   "execution_count": 35,
   "id": "f138cc46-77f8-4c5c-9231-34fd84ba4400",
   "metadata": {},
   "outputs": [
    {
     "data": {
      "text/plain": [
       "['cows', 'and', 'huts', 'and', 'fields']"
      ]
     },
     "execution_count": 35,
     "metadata": {},
     "output_type": "execute_result"
    }
   ],
   "source": [
    "text = \"cows and huts and fields\"\n",
    "tokens = text.split()\n",
    "tokens"
   ]
  },
  {
   "cell_type": "markdown",
   "id": "21ea71eb-a9f5-4600-8e11-93ec752fa3a1",
   "metadata": {},
   "source": [
    "Lets add positional encoding vectors to the word embeddings for the tokens of the given example text."
   ]
  },
  {
   "cell_type": "code",
   "execution_count": 36,
   "id": "253aa775-6f53-467c-b5c8-4d562901b34c",
   "metadata": {},
   "outputs": [],
   "source": [
    "token_vectors = [w_emb[t] + w_pos[i].numpy()*0.001 for i, t in enumerate(tokens)]\n",
    "# token_vectors = [w_emb[t] for i, t in enumerate(tokens)]"
   ]
  },
  {
   "cell_type": "markdown",
   "id": "0db46eee-22a8-4575-840a-cb17fafdf192",
   "metadata": {},
   "source": [
    "The following is a non-vectorized implementation of self-attention for our example use."
   ]
  },
  {
   "cell_type": "code",
   "execution_count": 37,
   "id": "663936bb-d2ff-4cfb-9a3e-8fd18085edc4",
   "metadata": {},
   "outputs": [],
   "source": [
    "d_emb = 300\n",
    "wq = np.random.normal(1, 1e-4, d_emb)\n",
    "wk = np.random.normal(1, 1e-5, d_emb)\n",
    "wv = np.random.normal(1, 1e-9, d_emb)\n",
    "\n",
    "def simple_attention(token_vectors, wq, wk, wv, d_emb):\n",
    "    attention_scores = []\n",
    "    values = []\n",
    "    for token in token_vectors:\n",
    "        q = token * wq\n",
    "        v = token * wv\n",
    "        \n",
    "        similarities = []\n",
    "        for token_k in token_vectors:\n",
    "            k = token_k * wk\n",
    "            sim = np.dot(q, k) / np.sqrt(d_emb)\n",
    "            similarities.append(sim)\n",
    "\n",
    "        score = softmax(np.stack(similarities))\n",
    "        attention_scores.append(score)\n",
    "        values.append(v)\n",
    "    \n",
    "    # Final output tokens are the weighted sum of attention scores of tokens and their value vectors.\n",
    "    outputs = []\n",
    "    for i in range(len(token_vectors)):\n",
    "        val = np.zeros(d_emb)\n",
    "        for j in range(len(token_vectors)):\n",
    "            val += attention_scores[i][j] * values[j]\n",
    "        outputs.append(val)\n",
    "    \n",
    "    return attention_scores, outputs"
   ]
  },
  {
   "cell_type": "code",
   "execution_count": 38,
   "id": "a7a74fc4-0ed9-446a-90ce-1a9aaac9445c",
   "metadata": {},
   "outputs": [],
   "source": [
    "attention, outputs = simple_attention(token_vectors, wq, wk, wv, d_emb)"
   ]
  },
  {
   "cell_type": "markdown",
   "id": "1569fada-b1fc-4a52-8fa4-19730f3c4f80",
   "metadata": {},
   "source": [
    "We can visualize the attention values has a heatmp between the tokens."
   ]
  },
  {
   "cell_type": "code",
   "execution_count": 39,
   "id": "b81a3873-7781-4a4a-bedc-73cf30794461",
   "metadata": {},
   "outputs": [
    {
     "name": "stderr",
     "output_type": "stream",
     "text": [
      "<ipython-input-23-cd247f3ed1e3>:11: UserWarning: FixedFormatter should only be used together with FixedLocator\n",
      "  ax.set_xticklabels(ticklabels[0])\n",
      "<ipython-input-23-cd247f3ed1e3>:12: UserWarning: FixedFormatter should only be used together with FixedLocator\n",
      "  ax.set_yticklabels(ticklabels[1])\n"
     ]
    },
    {
     "data": {
      "image/png": "[encoded data removed]",
      "text/plain": [
       "<Figure size 432x432 with 2 Axes>"
      ]
     },
     "metadata": {
      "needs_background": "light"
     },
     "output_type": "display_data"
    }
   ],
   "source": [
    "plot_matrix(np.stack(attention), xlabel=\"Position in sequence\",\n",
    "            ylabel=\"Position in sequence\", figsize=(6, 6), ticklabels=(text.split(), text.split()))"
   ]
  },
  {
   "cell_type": "markdown",
   "id": "610856cd-5d4a-418b-aac9-d34396ba83f7",
   "metadata": {},
   "source": [
    "Here, we see that after mixing word embeddings using attention, the concept that arises is closer to the notion of \"village\" rather than \"city\"."
   ]
  },
  {
   "cell_type": "code",
   "execution_count": 40,
   "id": "d2ecead5-de98-448b-811e-fe9298fe9b13",
   "metadata": {},
   "outputs": [
    {
     "data": {
      "text/plain": [
       "0.4447383956902817"
      ]
     },
     "execution_count": 40,
     "metadata": {},
     "output_type": "execute_result"
    }
   ],
   "source": [
    "cosine_similarity(w_emb[\"city\"], np.mean(outputs, axis=0))"
   ]
  },
  {
   "cell_type": "code",
   "execution_count": 45,
   "id": "82b2b775-7c6d-4a6c-bc6d-fa7998c0f1d0",
   "metadata": {},
   "outputs": [
    {
     "data": {
      "text/plain": [
       "0.5557934201099707"
      ]
     },
     "execution_count": 45,
     "metadata": {},
     "output_type": "execute_result"
    }
   ],
   "source": [
    "cosine_similarity(w_emb[\"village\"], np.mean(outputs, axis=0))"
   ]
  },
  {
   "cell_type": "markdown",
   "id": "35dd8704-fa6b-4bc1-8865-f604f14fbcc4",
   "metadata": {
    "tags": []
   },
   "source": [
    "### How attention is implemented"
   ]
  },
  {
   "cell_type": "code",
   "execution_count": 46,
   "id": "f78f0819-129f-4b6a-8c2a-1696116c00d2",
   "metadata": {},
   "outputs": [],
   "source": [
    "w1_key = torch.randn(max_len, emb_dim, dtype=torch.float32, requires_grad=False)\n",
    "w1_query = torch.randn(max_len, emb_dim, dtype=torch.float32, requires_grad=False)\n",
    "w1_value = torch.randn(max_len, emb_dim, dtype=torch.float32, requires_grad=False)"
   ]
  },
  {
   "cell_type": "code",
   "execution_count": 47,
   "id": "4d9a9db4-e426-4498-833c-e6d594c2d320",
   "metadata": {},
   "outputs": [
    {
     "data": {
      "text/plain": [
       "(torch.Size([64, 32]), torch.Size([64, 32]), torch.Size([64, 32]))"
      ]
     },
     "execution_count": 47,
     "metadata": {},
     "output_type": "execute_result"
    }
   ],
   "source": [
    "w1_key.size(), w1_query.size(), w1_value.size()"
   ]
  },
  {
   "cell_type": "code",
   "execution_count": 48,
   "id": "b3404290-f30c-4b7c-8433-3afc034dd66c",
   "metadata": {},
   "outputs": [],
   "source": [
    "k = x @ w1_key.T\n",
    "q = x @ w1_query.T\n",
    "v = x @ w1_value.T"
   ]
  },
  {
   "cell_type": "code",
   "execution_count": 49,
   "id": "3f0749dc-f2d6-4510-8d83-e9c618a4acee",
   "metadata": {},
   "outputs": [
    {
     "data": {
      "text/plain": [
       "(torch.Size([64, 64]), torch.Size([64, 64]), torch.Size([64, 64]))"
      ]
     },
     "execution_count": 49,
     "metadata": {},
     "output_type": "execute_result"
    }
   ],
   "source": [
    "k.size(), q.size(), v.size()"
   ]
  },
  {
   "cell_type": "code",
   "execution_count": 50,
   "id": "e33b6584-7e23-4619-b08f-256b25db121a",
   "metadata": {},
   "outputs": [],
   "source": [
    "attn_logits = torch.matmul(q, k.transpose(-2, -1)) / math.sqrt(q.size()[-1])"
   ]
  },
  {
   "cell_type": "code",
   "execution_count": 51,
   "id": "29353999-4ddd-4dbf-91cc-d5f33901448b",
   "metadata": {},
   "outputs": [],
   "source": [
    "attention = F.softmax(attn_logits, dim=-1)"
   ]
  },
  {
   "cell_type": "code",
   "execution_count": 52,
   "id": "ee967331-6f3c-4fa6-a9a7-a4d4f81b553c",
   "metadata": {},
   "outputs": [],
   "source": [
    "values = attention @ v"
   ]
  },
  {
   "cell_type": "code",
   "execution_count": 53,
   "id": "42a211ae-ae9b-4b25-afc3-5ebaee8345a0",
   "metadata": {},
   "outputs": [
    {
     "data": {
      "image/png": "[encoded data removed]",
      "text/plain": [
       "<Figure size 432x432 with 2 Axes>"
      ]
     },
     "metadata": {
      "needs_background": "light"
     },
     "output_type": "display_data"
    }
   ],
   "source": [
    "plot_matrix(attention.numpy(), xlabel=\"Position in sequence\",\n",
    "            ylabel=\"Position in sequence\", figsize=(6, 6))"
   ]
  },
  {
   "cell_type": "markdown",
   "id": "9ecebf2f-36b7-4792-ab9c-8b315749c6d3",
   "metadata": {},
   "source": [
    "Wrapping the whole operation into a single function, we have:"
   ]
  },
  {
   "cell_type": "code",
   "execution_count": 54,
   "id": "4a98449f-f6a6-4ee2-ba14-4b7c26336acd",
   "metadata": {},
   "outputs": [],
   "source": [
    "def scaled_dot_product_attention(q, k, v, mask=None):\n",
    "    attn_logits = torch.matmul(q, k.transpose(-2, -1))\n",
    "    attn_logits = attn_logits / math.sqrt(q.size()[-1])\n",
    "    if mask is not None:\n",
    "        attn_logits = attn_logits.masked_fill(mask == 0, -9e15)\n",
    "    attention = F.softmax(attn_logits, dim=-1)\n",
    "    values = torch.matmul(attention, v)\n",
    "    return values, attention"
   ]
  },
  {
   "cell_type": "code",
   "execution_count": 55,
   "id": "4d3de22d-74c4-44f0-aaa2-9edbdb8e4028",
   "metadata": {},
   "outputs": [
    {
     "data": {
      "text/plain": [
       "(torch.Size([64, 64]), torch.Size([64, 64]))"
      ]
     },
     "execution_count": 55,
     "metadata": {},
     "output_type": "execute_result"
    }
   ],
   "source": [
    "values, attention = scaled_dot_product_attention(q, k, v, mask=torch.Tensor(attention_mask).long())\n",
    "values.size(), attention.size()"
   ]
  },
  {
   "cell_type": "markdown",
   "id": "a65c14ac-ceed-4955-a4f8-74428d477cd6",
   "metadata": {},
   "source": [
    "### Inductive Bias using Attention Mask"
   ]
  },
  {
   "cell_type": "code",
   "execution_count": 56,
   "id": "4a582e95-96e2-4430-897e-afb54e79ef9e",
   "metadata": {},
   "outputs": [
    {
     "data": {
      "image/png": "[encoded data removed]",
      "text/plain": [
       "<Figure size 432x432 with 2 Axes>"
      ]
     },
     "metadata": {
      "needs_background": "light"
     },
     "output_type": "display_data"
    }
   ],
   "source": [
    "causal_mask = torch.tril(torch.ones(max_len, max_len))\n",
    "plot_matrix(causal_mask.numpy(), xlabel=\"Position in sequence\",\n",
    "            ylabel=\"Position in sequence\", figsize=(6, 6))"
   ]
  },
  {
   "cell_type": "markdown",
   "id": "878ec489-956b-4c87-afd6-cb0463966a20",
   "metadata": {
    "tags": []
   },
   "source": [
    "### Multi-head Attention"
   ]
  },
  {
   "cell_type": "code",
   "execution_count": 57,
   "id": "7977681a-d200-42bf-94eb-4a4f3014e8e9",
   "metadata": {},
   "outputs": [],
   "source": [
    "w2_key = torch.randn(max_len, emb_dim, dtype=torch.float32)\n",
    "w2_query = torch.randn(max_len, emb_dim, dtype=torch.float32)\n",
    "w2_value = torch.randn(max_len, emb_dim, dtype=torch.float32)\n",
    "\n",
    "k2 = x @ w2_key.T\n",
    "q2 = x @ w2_query.T\n",
    "v2 = x @ w2_value.T\n",
    "\n",
    "values2, attention2 = scaled_dot_product_attention(q2, k2, v2, mask=torch.Tensor(attention_mask).long())"
   ]
  },
  {
   "cell_type": "code",
   "execution_count": 58,
   "id": "1ac8e293-697b-481e-9d3c-782067cc264c",
   "metadata": {},
   "outputs": [
    {
     "data": {
      "image/png": "[encoded data removed]",
      "text/plain": [
       "<Figure size 432x432 with 2 Axes>"
      ]
     },
     "metadata": {
      "needs_background": "light"
     },
     "output_type": "display_data"
    }
   ],
   "source": [
    "plot_matrix(attention2.numpy(), xlabel=\"Position in sequence\",\n",
    "            ylabel=\"Position in sequence\", figsize=(6, 6))"
   ]
  },
  {
   "cell_type": "markdown",
   "id": "4f5c1c02-11ed-4ee0-a9cd-91b34f2500ce",
   "metadata": {
    "tags": []
   },
   "source": [
    "### Multi-head Attention as PyTorch Module"
   ]
  },
  {
   "cell_type": "markdown",
   "id": "51ec6c46-8ae8-4f95-85b3-956aef419eb6",
   "metadata": {},
   "source": [
    "The following is the full implementation of multi-head attention as a PyTorch module."
   ]
  },
  {
   "cell_type": "code",
   "execution_count": 59,
   "id": "3949a73e-7160-42bd-99a9-c25bb67b6960",
   "metadata": {},
   "outputs": [
    {
     "data": {
      "text/plain": [
       "tensor([[[ 1.5108,  0.8793, -1.4596,  ..., -1.0245,  0.2531, -0.0374],\n",
       "         [ 0.9224,  0.4024, -1.0509,  ..., -0.3668, -0.7619, -0.5811],\n",
       "         [ 1.2484,  0.5134, -0.4724,  ...,  0.5601, -0.3479, -0.1899],\n",
       "         ...,\n",
       "         [ 0.5140,  0.6936,  1.1067,  ...,  0.3753,  0.3672, -0.1599],\n",
       "         [ 0.5107,  0.6986,  1.1180,  ...,  0.3864,  0.3774, -0.1610],\n",
       "         [ 0.5026,  0.6985,  1.1302,  ...,  0.3993,  0.3862, -0.1602]]],\n",
       "       grad_fn=<AddBackward0>)"
      ]
     },
     "execution_count": 59,
     "metadata": {},
     "output_type": "execute_result"
    }
   ],
   "source": [
    "class MultiheadAttention(nn.Module):\n",
    "\n",
    "    def __init__(self, input_dim, emb_dim, num_heads, max_len):\n",
    "        super().__init__()\n",
    "        assert emb_dim % num_heads == 0, \"Embedding dimension must be 0 modulo number of heads.\"\n",
    "\n",
    "        self.emb_dim = emb_dim\n",
    "        self.num_heads = num_heads\n",
    "        self.head_dim = emb_dim // num_heads\n",
    "\n",
    "        # Stack all weight matrices 1...h together for efficiency\n",
    "        self.qkv_proj = nn.Linear(input_dim, 3*emb_dim)\n",
    "        self.o_proj = nn.Linear(emb_dim, emb_dim)\n",
    "        self.register_buffer(\"causal_mask\", torch.tril(torch.ones(max_len, max_len)).view(1, 1, max_len, max_len))\n",
    "        self._reset_parameters()\n",
    "\n",
    "    def _reset_parameters(self):\n",
    "        nn.init.xavier_uniform_(self.qkv_proj.weight)\n",
    "        nn.init.xavier_uniform_(self.o_proj.weight)\n",
    "        self.qkv_proj.bias.data.fill_(0)\n",
    "        self.o_proj.bias.data.fill_(0)\n",
    "        \n",
    "    def forward(self, x, mask=None, return_attention=False):\n",
    "        batch_size, seq_length, _ = x.size()\n",
    "        qkv = self.qkv_proj(x)\n",
    "\n",
    "        # Separate Q, K, V from linear output\n",
    "        qkv = qkv.reshape(batch_size, seq_length, self.num_heads, 3*self.head_dim)\n",
    "        qkv = qkv.permute(0, 2, 1, 3) # [Batch, Head, SeqLen, Dims]\n",
    "        q, k, v = qkv.chunk(3, dim=-1)\n",
    "\n",
    "        # If mask is defined, use it. Else, use causal mask.\n",
    "        if mask is None:\n",
    "            mask = self.causal_mask[:,:,:seq_length,:seq_length].expand(batch_size, self.num_heads, -1, -1)\n",
    "        else:\n",
    "            mask = mask.view(batch_size, 1, 1, seq_length).expand(-1, self.num_heads, seq_length, -1)\n",
    "        values, attention = scaled_dot_product_attention(q, k, v, mask=mask)\n",
    "        values = values.permute(0, 2, 1, 3) # [Batch, SeqLen, Head, Dims]\n",
    "        values = values.reshape(batch_size, seq_length, self.emb_dim)\n",
    "        o = self.o_proj(values)\n",
    "\n",
    "        if return_attention:\n",
    "            return o, attention\n",
    "        else:\n",
    "            return o\n",
    "\n",
    "x = (input_embeddings + pe).unsqueeze(0) # add batch dimenstion\n",
    "\n",
    "mha = MultiheadAttention(input_dim=32, emb_dim=32, num_heads=2, max_len=128)\n",
    "mha(x)"
   ]
  },
  {
   "cell_type": "markdown",
   "id": "64eae47c-6a4d-4df4-b43a-1ff2d1643f72",
   "metadata": {},
   "source": [
    "### Layer Normalization"
   ]
  },
  {
   "cell_type": "code",
   "execution_count": 60,
   "id": "8f411192-c218-4495-816d-1c88e88f7dd2",
   "metadata": {},
   "outputs": [],
   "source": [
    "def layer_normalization(x, gamma, beta):\n",
    "    mean = x.mean(dim=-1, keepdim=True)\n",
    "    var = ((x - mean) ** 2).mean(dim=-1, keepdim=True)\n",
    "    std = (var + 1e-9).sqrt()\n",
    "    y = (x - mean) / std\n",
    "    y = y * gamma\n",
    "    y = y + beta\n",
    "    return y"
   ]
  },
  {
   "cell_type": "code",
   "execution_count": 61,
   "id": "11299637-b7cb-416b-88ab-e6e64fb0c784",
   "metadata": {},
   "outputs": [],
   "source": [
    "gamma = torch.ones(emb_dim, dtype=torch.float32)\n",
    "beta = torch.zeros(emb_dim, dtype=torch.float32)\n",
    "\n",
    "x = input_embeddings + pe\n",
    "x_normalized = layer_normalization(x, gamma, beta)"
   ]
  },
  {
   "cell_type": "code",
   "execution_count": 62,
   "id": "d5807342-3e72-41c9-b9d3-8ebd4666c7ab",
   "metadata": {},
   "outputs": [
    {
     "name": "stdout",
     "output_type": "stream",
     "text": [
      "X is from normal dist (h0 cannot be rejected)\n"
     ]
    }
   ],
   "source": [
    "k2, p = scipy.stats.normaltest(x_normalized[0].numpy())\n",
    "alpha = 1e-3\n",
    "if p < alpha:  # null hypothesis: x comes from a normal distribution\n",
    "    print(\"X is not from normal dist (h0 can be rejected)\")\n",
    "else:\n",
    "    print(\"X is from normal dist (h0 cannot be rejected)\")"
   ]
  },
  {
   "cell_type": "code",
   "execution_count": 63,
   "id": "6121ab21-ba46-46e5-ad7b-ee0f9e57e683",
   "metadata": {},
   "outputs": [],
   "source": [
    "# Weights for self attention\n",
    "wK = torch.randn(max_len, emb_dim, dtype=torch.float32)\n",
    "wQ = torch.randn(max_len, emb_dim, dtype=torch.float32)\n",
    "wV = torch.randn(max_len, emb_dim, dtype=torch.float32)\n",
    "\n",
    "wO = torch.randn(max_len, emb_dim, dtype=torch.float32)\n",
    "\n",
    "# Weights and bias for first MLP layer\n",
    "w1 = torch.randn(max_len, emb_dim, dtype=torch.float32)\n",
    "b1 = torch.randn(max_len, 1, dtype=torch.float32).flatten()\n",
    "\n",
    "# weights and bias for second MLP layer\n",
    "w2 = torch.randn(emb_dim, max_len, dtype=torch.float32)\n",
    "b2 = torch.randn(emb_dim, 1, dtype=torch.float32).flatten()\n",
    "\n",
    "# Learnable parameters for first layer-normalization\n",
    "gamma1 = torch.ones(emb_dim, dtype=torch.float32)\n",
    "beta1 = torch.zeros(emb_dim, dtype=torch.float32)\n",
    "\n",
    "# Learnable parameters for second layer-normalization\n",
    "gamma2 = torch.ones(emb_dim, dtype=torch.float32)\n",
    "beta2 = torch.zeros(emb_dim, dtype=torch.float32)"
   ]
  },
  {
   "cell_type": "code",
   "execution_count": 64,
   "id": "a84fdfc5-7477-4fd8-b6ae-8a695de2f83f",
   "metadata": {},
   "outputs": [
    {
     "name": "stdout",
     "output_type": "stream",
     "text": [
      "torch.Size([64, 32])\n"
     ]
    }
   ],
   "source": [
    "# Embeddings\n",
    "x = input_embeddings + pe\n",
    "\n",
    "# Self attention\n",
    "kx = x @ wK.T\n",
    "qx = x @ wQ.T\n",
    "vx = x @ wV.T\n",
    "v, _ = scaled_dot_product_attention(qx, kx, vx, mask=torch.Tensor(attention_mask).long())\n",
    "v = v @ wO\n",
    "v = layer_normalization(v, gamma1, beta1)\n",
    "print(v.size())\n",
    "x = x + v\n",
    "\n",
    "# Two-layer MLP\n",
    "o = layer_normalization(x, gamma2, beta2)\n",
    "o = o @ w1.T + b1\n",
    "o = F.relu(o)\n",
    "o = o @ w2.T + b2\n",
    "x = x + nn.Dropout(0.1)(o)"
   ]
  },
  {
   "cell_type": "code",
   "execution_count": 65,
   "id": "9e02b73f-0c51-4f6a-9492-a0aa82ffb7d0",
   "metadata": {},
   "outputs": [
    {
     "data": {
      "text/plain": [
       "torch.Size([64, 32])"
      ]
     },
     "execution_count": 65,
     "metadata": {},
     "output_type": "execute_result"
    }
   ],
   "source": [
    "x.size()"
   ]
  },
  {
   "cell_type": "markdown",
   "id": "29585ad6-4c50-41dd-96e5-0918d7d81dee",
   "metadata": {
    "tags": []
   },
   "source": [
    "### Transformer Block as Pytorch Module"
   ]
  },
  {
   "cell_type": "markdown",
   "id": "139f6e0f-d3e6-4dad-b404-2c83c96c0b8d",
   "metadata": {},
   "source": [
    "The following is the transformer block as a Pytorch module."
   ]
  },
  {
   "cell_type": "code",
   "execution_count": 66,
   "id": "6c7b7a28-25c4-4d21-b25a-0ede1f2466d3",
   "metadata": {},
   "outputs": [],
   "source": [
    "class TransformerBlock(nn.Module):\n",
    "    def __init__(self, input_dim, num_heads, model_dim, max_len, dropout=0.0):\n",
    "        \"\"\"\n",
    "        Inputs:\n",
    "            input_dim - Dimensionality of the input\n",
    "            num_heads - Number of heads to use in the attention\n",
    "            model_dim - Dimensionality of the hidden layer in the MLP\n",
    "            dropout - Dropout probability\n",
    "        \"\"\"\n",
    "        super().__init__()\n",
    "\n",
    "        # Attention layer\n",
    "        self.self_attn = MultiheadAttention(\n",
    "            input_dim=input_dim, emb_dim=input_dim, num_heads=num_heads, max_len=max_len\n",
    "        )\n",
    "\n",
    "        # Two-layer MLP\n",
    "        self.mlp = nn.Sequential(\n",
    "            nn.Linear(input_dim, model_dim),\n",
    "            nn.GELU(),\n",
    "            nn.Linear(model_dim, input_dim),\n",
    "            nn.Dropout(dropout)\n",
    "        )\n",
    "\n",
    "        self.norm1 = nn.LayerNorm(input_dim)\n",
    "        self.norm2 = nn.LayerNorm(input_dim)\n",
    "\n",
    "    def forward(self, x, mask=None):\n",
    "        x = x + self.self_attn(self.norm1(x), mask=mask)\n",
    "        x = x + self.mlp(self.norm2(x))\n",
    "        return x"
   ]
  },
  {
   "cell_type": "code",
   "execution_count": 67,
   "id": "482baeb6-cf02-4cc1-a20b-b95d796424b2",
   "metadata": {},
   "outputs": [],
   "source": [
    "class Transformer(nn.Module):\n",
    "    def __init__(\n",
    "        self,\n",
    "        vocab_size,\n",
    "        max_len,\n",
    "        emb_dim,\n",
    "        model_dim,\n",
    "        num_layers,\n",
    "        num_heads,\n",
    "        dropout=0.1,\n",
    "        position_sinusoidal=True,\n",
    "    ):\n",
    "        super().__init__()\n",
    "\n",
    "        self.embedding = nn.Embedding(vocab_size, emb_dim)\n",
    "        self.input_proj = nn.Linear(emb_dim, model_dim)\n",
    "        self.positional_encoding = PositionalEncoding(\n",
    "            model_dim, max_len, sinusoidal=position_sinusoidal\n",
    "        )\n",
    "        self.blocks = nn.ModuleList(\n",
    "            [\n",
    "                TransformerBlock(model_dim, num_heads, model_dim, max_len, dropout)\n",
    "                for _ in range(num_layers)\n",
    "            ]\n",
    "        )\n",
    "        self.lm_proj = nn.Linear(model_dim, vocab_size, bias=False)\n",
    "\n",
    "    def forward(self, input_ids, attention_mask=None, lm_proj=True):\n",
    "        embeds = self.embedding(input_ids)\n",
    "        x = self.input_proj(embeds)\n",
    "        x = self.positional_encoding(x)\n",
    "        for block in self.blocks:\n",
    "            x = block(x, mask=attention_mask)\n",
    "\n",
    "        logits = self.lm_proj(x) if lm_proj else x\n",
    "        return logits\n"
   ]
  },
  {
   "cell_type": "markdown",
   "id": "6a594f90-186e-4f85-9809-c5db437d3c20",
   "metadata": {},
   "source": [
    "With causual-attention and by adjusting the `num_layers`, `num_heads` and `model_dim`, most GPT models can be implemented with our code."
   ]
  },
  {
   "cell_type": "code",
   "execution_count": 68,
   "id": "ba3cbda4-6ad4-4a83-a1f8-630f40c65e72",
   "metadata": {},
   "outputs": [],
   "source": [
    "gpt2 = dict(num_layers=12, num_heads=12, model_dim=768)  # 120M params\n",
    "gpt3 = dict(num_layers=96, num_heads=96, model_dim=2048)  # 175B params\n",
    "gpt_mini = dict(num_layers=6, num_heads=6, model_dim=192) # 1.2M params"
   ]
  },
  {
   "cell_type": "code",
   "execution_count": 69,
   "id": "37cc07f4-fc1b-48e7-926b-16804537bd81",
   "metadata": {},
   "outputs": [],
   "source": [
    "model = Transformer(\n",
    "    vocab_size=vocab_size,\n",
    "    max_len=max_len,\n",
    "    emb_dim=32,\n",
    "    **gpt_mini\n",
    ")"
   ]
  },
  {
   "cell_type": "code",
   "execution_count": 70,
   "id": "3f45fae1-7e5b-4ce7-962b-d6f1018a454c",
   "metadata": {},
   "outputs": [],
   "source": [
    "input_text = 'I am the First Citizen of england'\n",
    "\n",
    "input_ids, attention_mask = tokenize(input_text,\n",
    "                     sorted_tokens=sorted_tokens,\n",
    "                     input_id_map=token2id,\n",
    "                     return_strings=False,\n",
    "                     max_length=max_len,\n",
    "                     unknown_token='</u>')\n",
    "\n",
    "input_ids = torch.Tensor([input_ids]).long()\n",
    "attention_mask = torch.Tensor([attention_mask]).long()"
   ]
  },
  {
   "cell_type": "code",
   "execution_count": 71,
   "id": "d02dc756-e788-4fbc-af3a-660d7e99f069",
   "metadata": {},
   "outputs": [
    {
     "data": {
      "text/plain": [
       "torch.Size([1, 64, 3815])"
      ]
     },
     "execution_count": 71,
     "metadata": {},
     "output_type": "execute_result"
    }
   ],
   "source": [
    "model(input_ids, attention_mask).shape"
   ]
  },
  {
   "cell_type": "code",
   "execution_count": 1,
   "id": "90cc1695-b638-465b-84bd-5d980ad0255f",
   "metadata": {},
   "outputs": [],
   "source": [
    "import tiktoken\n",
    "import random\n",
    "from torch.utils.data import Dataset\n",
    "from torch.utils.data.dataloader import DataLoader\n",
    "from datasets import load_dataset\n",
    "\n",
    "\n",
    "class NextWordPredictionDataset(Dataset):\n",
    "    def __init__(\n",
    "        self,\n",
    "        dataset=\"shakespeare\",\n",
    "        max_len=128,\n",
    "        randomize_seq_len=False,\n",
    "        return_mask=False,\n",
    "        idx_offset=0,\n",
    "    ):\n",
    "        if dataset == \"shakespeare\":\n",
    "            with open(\"data/shakespeare/train.txt\", \"r\") as f:\n",
    "                data = \" \".join([l for l in f.read().splitlines() if l])\n",
    "                self.data = data.split(\" \")\n",
    "        elif dataset == \"openwebtext\":\n",
    "            self.data = np.memmap(\n",
    "                \"data/openwebtext/train.bin\", dtype=np.uint16, mode=\"r\"\n",
    "            )\n",
    "        self.dataset = dataset\n",
    "        self.max_len = max_len\n",
    "        self.idx_offset = idx_offset\n",
    "        self.return_mask = return_mask\n",
    "        self.randomize_seq_len = randomize_seq_len\n",
    "        self.tokenizer = tiktoken.get_encoding(\"gpt2\")\n",
    "        self.pad_id = 50256\n",
    "\n",
    "    def __len__(self):\n",
    "        return len(self.data) - self.max_len\n",
    "\n",
    "    def __getitem__(self, idx):\n",
    "        # Get the index (if offset is larger than length, wrap around).\n",
    "        idx = idx + self.idx_offset\n",
    "        # Get the length of tokens/words to get.\n",
    "        chunk_len = (\n",
    "            random.randrange(self.max_len) if self.randomize_seq_len else self.max_len\n",
    "        )\n",
    "\n",
    "        if self.dataset == \"shakespeare\":\n",
    "            tokens = self.tokenizer.encode(\n",
    "                \" \".join(self.data[idx : idx + chunk_len + 1])\n",
    "            )\n",
    "        else:\n",
    "            tokens = self.data[idx : idx + chunk_len + 1].tolist()\n",
    "\n",
    "        seq_len = min(self.max_len, len(tokens))\n",
    "        x, y = tokens[:seq_len], tokens[1 : seq_len + 1]\n",
    "        mask = [1] * len(x)\n",
    "\n",
    "        for i in range(self.max_len - seq_len + 1):\n",
    "            if len(x) < self.max_len:\n",
    "                x.append(self.pad_id)\n",
    "            if len(y) < self.max_len:\n",
    "                y.append(self.pad_id)\n",
    "            if len(mask) < self.max_len:\n",
    "                mask.append(0)\n",
    "\n",
    "        x = torch.tensor(x, dtype=torch.long)\n",
    "        y = torch.tensor(y, dtype=torch.long)\n",
    "\n",
    "        mask = torch.tensor(mask, dtype=torch.long)\n",
    "        assert x.size(0) == self.max_len\n",
    "        assert y.size(0) == self.max_len\n",
    "        assert mask.size(0) == self.max_len\n",
    "\n",
    "        if self.return_mask:\n",
    "            return x, y, mask\n",
    "        return x, y\n"
   ]
  },
  {
   "cell_type": "code",
   "execution_count": 109,
   "id": "3ba6c174-5683-4019-95b5-13f65b998cee",
   "metadata": {},
   "outputs": [],
   "source": [
    "train_dataset = NextWordPredictionDataset(\n",
    "    dataset=\"openwebtext\",\n",
    "    max_len=4096,\n",
    "    randomize_seq_len=False,\n",
    "    return_mask=True,\n",
    "    idx_offset=0,\n",
    ")\n"
   ]
  },
  {
   "cell_type": "code",
   "execution_count": 110,
   "id": "e82a9cc7-b227-4627-af80-767a50f16e44",
   "metadata": {},
   "outputs": [
    {
     "data": {
      "text/plain": [
       "(tensor([   12,   437, 12782,  ...,  3873, 46664,    11]),\n",
       " tensor([  437, 12782,   815,  ..., 46664,    11,   284]),\n",
       " tensor([1, 1, 1,  ..., 1, 1, 1]))"
      ]
     },
     "execution_count": 110,
     "metadata": {},
     "output_type": "execute_result"
    }
   ],
   "source": [
    "x, y, mask = train_dataset[100]\n",
    "x, y, mask"
   ]
  },
  {
   "cell_type": "markdown",
   "id": "3f11fdcd-4b58-4711-ad90-6d755ec09a5d",
   "metadata": {
    "tags": []
   },
   "source": [
    "### Learning rate scheduling"
   ]
  },
  {
   "cell_type": "markdown",
   "id": "75a92fff-627f-4fc8-ae42-ea4e793c245a",
   "metadata": {},
   "source": [
    "Here we implement a mechanism to gradually lower our learning rate as the training progresses."
   ]
  },
  {
   "cell_type": "code",
   "execution_count": 111,
   "id": "5fe19fba-68f9-45e7-9653-21ddc8a7010a",
   "metadata": {},
   "outputs": [],
   "source": [
    "import torch.optim as optim\n",
    "\n",
    "class CosineWarmupScheduler(optim.lr_scheduler._LRScheduler):\n",
    "\n",
    "    def __init__(self, optimizer, warmup, max_iters, min_lr_factor=0.1):\n",
    "        self.warmup = warmup\n",
    "        self.max_num_iters = max_iters\n",
    "        self.min_lr_factor = min_lr_factor\n",
    "        super().__init__(optimizer)\n",
    "\n",
    "    def get_lr(self):\n",
    "        lr_factor = self.get_lr_factor(epoch=self.last_epoch)\n",
    "        return [base_lr * lr_factor for base_lr in self.base_lrs]\n",
    "\n",
    "    def get_lr_factor(self, epoch):\n",
    "        lr_factor = 0.5 * (1 + np.cos(np.pi * epoch / self.max_num_iters))\n",
    "        if epoch <= self.warmup:\n",
    "            lr_factor *= epoch * 1.0 / self.warmup\n",
    "        return max(lr_factor, self.min_lr_factor)"
   ]
  },
  {
   "cell_type": "code",
   "execution_count": 112,
   "id": "5eb57d1f-0a6c-4f49-9342-e895c13b0bab",
   "metadata": {},
   "outputs": [
    {
     "data": {
      "image/png": "[encoded data removed]",
      "text/plain": [
       "<Figure size 432x144 with 1 Axes>"
      ]
     },
     "metadata": {},
     "output_type": "display_data"
    }
   ],
   "source": [
    "p = nn.Parameter(torch.empty(4,4))\n",
    "optimizer = optim.Adam([p], lr=6e-4)\n",
    "lr_scheduler = CosineWarmupScheduler(optimizer=optimizer, warmup=2000, max_iters=60000)\n",
    "\n",
    "steps = list(range(60000))\n",
    "sns.set()\n",
    "plt.figure(figsize=(6,2))\n",
    "plt.plot(steps, [lr_scheduler.get_lr_factor(e) for e in steps])\n",
    "plt.ylabel(\"Learning rate factor\")\n",
    "plt.xlabel(\"Iterations (in batches)\")\n",
    "plt.title(\"Cosine Warm-up Learning Rate Scheduler\")\n",
    "plt.show()\n",
    "sns.reset_orig()"
   ]
  },
  {
   "cell_type": "markdown",
   "id": "6b1edbfd-cbaa-4796-9d36-2fc349149822",
   "metadata": {},
   "source": [
    "### Defining the model and training"
   ]
  },
  {
   "cell_type": "markdown",
   "id": "f3decbdf-80ec-4843-b8d4-13a07518b8d0",
   "metadata": {},
   "source": [
    "The following is the implementation of GPT2 model with training and optimzation configuration."
   ]
  },
  {
   "cell_type": "code",
   "execution_count": 73,
   "id": "784ba436-afe6-4e73-b11b-198073a2547d",
   "metadata": {},
   "outputs": [],
   "source": [
    "import pytorch_lightning as pl\n",
    "\n",
    "\n",
    "class GPT2(pl.LightningModule):\n",
    "    def __init__(\n",
    "        self,\n",
    "        max_len=64,\n",
    "        emb_dim=128,\n",
    "        num_layers=6,\n",
    "        num_heads=6,\n",
    "        model_dim=128,\n",
    "        vocab_size=50257,\n",
    "        lr=6e-4,\n",
    "        warmup=2000,\n",
    "        weight_decay=1e-2,\n",
    "        dropout=0.0,\n",
    "    ):\n",
    "        super().__init__()\n",
    "        self.save_hyperparameters()\n",
    "        self.model = model = Transformer(\n",
    "            vocab_size=vocab_size,\n",
    "            max_len=max_len,\n",
    "            emb_dim=emb_dim,\n",
    "            model_dim=model_dim,\n",
    "            num_layers=num_layers,\n",
    "            num_heads=num_heads,\n",
    "            dropout=dropout,\n",
    "            position_sinusoidal=False\n",
    "        )\n",
    "\n",
    "    def training_step(self, batch, batch_idx):\n",
    "        input_ids, targets = batch\n",
    "        logits = self.model(input_ids=input_ids, attention_mask=None)\n",
    "        loss = F.cross_entropy(\n",
    "            logits.view(-1, logits.size(-1)), targets.view(-1), ignore_index=-1\n",
    "        )\n",
    "        self.log(\"train_loss\", loss)\n",
    "        # if self.global_step % 20000 == 0:\n",
    "        #     self.trainer.save_checkpoint(\"gpt2-openwebtext.ckpt\")\n",
    "        return loss\n",
    "\n",
    "    def configure_optimizers(self):\n",
    "        optimizer = torch.optim.AdamW(\n",
    "            self.parameters(),\n",
    "            lr=self.hparams.lr,\n",
    "            weight_decay=self.hparams.weight_decay,\n",
    "            betas=(0.9, 0.95)\n",
    "        )\n",
    "\n",
    "        lr_scheduler = CosineWarmupScheduler(\n",
    "            optimizer,\n",
    "            warmup=self.hparams.warmup,\n",
    "            max_iters= self.trainer.max_steps\n",
    "        )\n",
    "        return [optimizer], [{\"scheduler\": lr_scheduler, \"interval\": \"step\"}]\n"
   ]
  },
  {
   "cell_type": "code",
   "execution_count": 117,
   "id": "c63c50a4-91a7-4255-8085-bfe34e19163a",
   "metadata": {},
   "outputs": [],
   "source": [
    "config = dict(\n",
    "    max_len=1024,\n",
    "    emb_dim=768,\n",
    "    num_layers=12,\n",
    "    num_heads=12,\n",
    "    model_dim=768,\n",
    "    vocab_size=50257,\n",
    "    weight_decay=0.1,\n",
    "    dropout=0.0\n",
    ") # gtp2\n",
    "\n",
    "model = GPT2(**config)"
   ]
  },
  {
   "cell_type": "code",
   "execution_count": 118,
   "id": "a09d441a-0353-48a8-97a7-e96d94677b63",
   "metadata": {},
   "outputs": [],
   "source": [
    "train_dataset = NextWordPredictionDataset(dataset=\"openwebtext\", max_len=1024, idx_offset=0)\n",
    "train_loader = DataLoader(\n",
    "    train_dataset,\n",
    "    shuffle=False,\n",
    "    pin_memory=False,\n",
    "    batch_size=12,\n",
    "    num_workers=60,\n",
    ")"
   ]
  },
  {
   "cell_type": "code",
   "execution_count": null,
   "id": "dbf6472f-0434-460f-8154-ded4ca265c6a",
   "metadata": {},
   "outputs": [],
   "source": [
    "trainer = pl.Trainer(\n",
    "    max_steps=600000,\n",
    "    accumulate_grad_batches=10,\n",
    "    accelerator=\"gpu\",\n",
    "    devices=-1,\n",
    "    strategy=\"dp\",\n",
    ")"
   ]
  },
  {
   "cell_type": "code",
   "execution_count": null,
   "id": "ded72a19-019d-4303-9660-bf11986883f3",
   "metadata": {},
   "outputs": [],
   "source": [
    "trainer.fit(model, train_loader)"
   ]
  },
  {
   "cell_type": "code",
   "execution_count": null,
   "id": "4f4d7913-2d22-4923-9845-a02c2afa774b",
   "metadata": {},
   "outputs": [],
   "source": [
    "trainer.save_checkpoint(\"gpt2-openwebtext.ckpt\")"
   ]
  },
  {
   "cell_type": "markdown",
   "id": "8577d6b4-9afe-4742-a764-c7830f02daf8",
   "metadata": {},
   "source": [
    "### Generating new tokens with trained model"
   ]
  },
  {
   "cell_type": "markdown",
   "id": "8a5a6b92-012c-4c8b-b587-39819fc0f973",
   "metadata": {},
   "source": [
    "Now lets use our trained model to generate new tokens by sampling from the vocabulary following the distribution generated by our model."
   ]
  },
  {
   "cell_type": "code",
   "execution_count": 119,
   "id": "ce74753f-df79-4b2f-84ef-6436089ac037",
   "metadata": {},
   "outputs": [],
   "source": [
    "model = GPT2.load_from_checkpoint(\"gpt2-openwebtext.ckpt\")"
   ]
  },
  {
   "cell_type": "code",
   "execution_count": null,
   "id": "e45c4c21-cea3-43dd-9035-125d421e0a74",
   "metadata": {},
   "outputs": [],
   "source": [
    "def generate(model, prompt, max_new_tokens, temperature=1.0):\n",
    "\n",
    "    model.to('cpu').eval()\n",
    "    tokenizer = tiktoken.get_encoding(\"gpt2\")\n",
    "    ids = tokenizer.encode(prompt)\n",
    "\n",
    "    for _ in range(max_new_tokens):\n",
    "        logits = model.model(torch.Tensor([ids]).long())\n",
    "        probs = F.softmax(logits[:, -1, :] / temperature, dim=-1) \n",
    "        idx_next = torch.multinomial(probs, num_samples=1)\n",
    "        ids.append(idx_next)\n",
    "\n",
    "    return tokenizer.decode(ids)"
   ]
  },
  {
   "cell_type": "code",
   "execution_count": 121,
   "id": "15afe7eb-7851-45d4-9058-df86aa9b8562",
   "metadata": {},
   "outputs": [],
   "source": [
    "prompt = \"Hello my name is \""
   ]
  },
  {
   "cell_type": "code",
   "execution_count": 122,
   "id": "073bb555-43b1-4ec9-830f-83e666ac6d8b",
   "metadata": {},
   "outputs": [
    {
     "name": "stdout",
     "output_type": "stream",
     "text": [
      "Hello my name is  - which she had a slow start here if the U.\n",
      "\n",
      "\n",
      " resources international H Hurricane link to the farther anotherlaugh will provide a single aircraft\n"
     ]
    }
   ],
   "source": [
    "generation = generate(model, prompt, max_new_tokens=30, temperature=0.8)\n",
    "print(generation)"
   ]
  }
 ],
 "metadata": {
  "kernelspec": {
   "display_name": "morpheus-cu116",
   "language": "python",
   "name": "morpheus-cu116"
  },
  "language_info": {
   "codemirror_mode": {
    "name": "ipython",
    "version": 3
   },
   "file_extension": ".py",
   "mimetype": "text/x-python",
   "name": "python",
   "nbconvert_exporter": "python",
   "pygments_lexer": "ipython3",
   "version": "3.8.10"
  }
 },
 "nbformat": 4,
 "nbformat_minor": 5
}
